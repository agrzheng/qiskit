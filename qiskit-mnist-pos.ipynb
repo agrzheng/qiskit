{
 "cells": [
  {
   "cell_type": "code",
   "execution_count": 1,
   "metadata": {},
   "outputs": [],
   "source": [
    "import numpy as np\n",
    "import matplotlib.pyplot as plt\n",
    "\n",
    "from torch import Tensor\n",
    "from torch.nn import Linear, CrossEntropyLoss, MSELoss\n",
    "from torch.optim import LBFGS\n",
    "\n",
    "from qiskit import QuantumCircuit\n",
    "from qiskit.utils import algorithm_globals\n",
    "from qiskit.circuit import Parameter\n",
    "from qiskit.circuit.library import RealAmplitudes, ZZFeatureMap\n",
    "from qiskit_machine_learning.neural_networks import SamplerQNN, EstimatorQNN\n",
    "from qiskit_machine_learning.connectors import TorchConnector\n",
    "from qiskit_machine_learning.algorithms.classifiers import NeuralNetworkClassifier, VQC"
   ]
  },
  {
   "cell_type": "code",
   "execution_count": 2,
   "metadata": {},
   "outputs": [],
   "source": [
    "from data_modify import buildpoison,Datapoison"
   ]
  },
  {
   "cell_type": "code",
   "execution_count": 3,
   "metadata": {},
   "outputs": [],
   "source": [
    "import torch\n",
    "from torch import cat, no_grad, manual_seed\n",
    "from torch.utils.data import DataLoader\n",
    "from torchvision import datasets, transforms\n",
    "import torch.optim as optim\n",
    "from torch.nn import (\n",
    "    Module,\n",
    "    Conv2d,\n",
    "    Linear,\n",
    "    Dropout2d,\n",
    "    NLLLoss,\n",
    "    MaxPool2d,\n",
    "    Flatten,\n",
    "    Sequential,\n",
    "    ReLU,\n",
    ")\n",
    "import torch.nn.functional as F"
   ]
  },
  {
   "cell_type": "code",
   "execution_count": 4,
   "metadata": {},
   "outputs": [
    {
     "data": {
      "text/plain": [
       "_StoreAction(option_strings=['--trigger_size'], dest='trigger_size', nargs=None, const=None, default=5, type=<class 'int'>, choices=None, required=False, help='Trigger Size (int, default: 5)', metavar=None)"
      ]
     },
     "execution_count": 4,
     "metadata": {},
     "output_type": "execute_result"
    }
   ],
   "source": [
    "import argparse\n",
    "import os\n",
    "import pathlib\n",
    "parser = argparse.ArgumentParser(description='Reproduce the basic backdoor attack in \"Badnets: Identifying vulnerabilities in the machine learning model supply chain\".')\n",
    "parser.add_argument('--dataset', default='MNIST', help='Which dataset to use (MNIST or CIFAR10, default: MNIST)')\n",
    "parser.add_argument('--data_path', default='./data/', help='Place to load dataset (default: ./dataset/)')\n",
    "parser.add_argument('--nb_classes', default=10, type=int, help='number of the classification types')\n",
    "# poison settings\n",
    "parser.add_argument('--poisoning_rate', type=float, default=0.1, help='poisoning portion (float, range from 0 to 1, default: 0.1)')\n",
    "parser.add_argument('--trigger_label', type=int, default=1, help='The NO. of trigger label (int, range from 0 to 10, default: 0)')\n",
    "parser.add_argument('--trigger_path', default=\"./triggers/trigger_white.png\", help='Trigger Path (default: ./triggers/trigger_white.png)')\n",
    "parser.add_argument('--trigger_size', type=int, default=5, help='Trigger Size (int, default: 5)')"
   ]
  },
  {
   "cell_type": "code",
<<<<<<< HEAD
   "execution_count": 21,
=======
   "execution_count": 5,
>>>>>>> ca02f133010a73bc971dd16dc6f46f4b11b69ea4
   "metadata": {},
   "outputs": [
    {
     "name": "stdout",
     "output_type": "stream",
     "text": [
      "Transform =  Compose(\n",
      "    ToTensor()\n",
      "    Normalize(mean=(0.5,), std=(0.5,))\n",
      ")\n",
      "Poison 6000 over 60000 samples ( poisoning rate 0.1)\n",
      "Number of the class = 10\n",
      "Dataset MNISTPoison\n",
      "    Number of datapoints: 60000\n",
      "    Root location: ./data/\n",
      "    Split: Train\n",
      "    StandardTransform\n",
      "Transform: Compose(\n",
      "               ToTensor()\n",
      "               Normalize(mean=(0.5,), std=(0.5,))\n",
      "           )\n"
     ]
    }
   ],
   "source": [
    "args, unknown = parser.parse_known_args()\n",
    "X_train, args.nb_classes = buildpoison.build_poisoned_training_set(is_train=True, args=args)"
   ]
  },
  {
   "cell_type": "code",
<<<<<<< HEAD
   "execution_count": 22,
=======
   "execution_count": 6,
>>>>>>> ca02f133010a73bc971dd16dc6f46f4b11b69ea4
   "metadata": {},
   "outputs": [],
   "source": [
    "batch_size = 10\n",
    "n_samples = 10  # We will concentrate on the first 100 samples"
   ]
  },
  {
   "cell_type": "code",
   "execution_count": 23,
   "metadata": {},
   "outputs": [],
   "source": [
    "from numpy import random"
   ]
  },
  {
   "cell_type": "code",
   "execution_count": 24,
   "metadata": {},
   "outputs": [],
   "source": [
    "# idx = np.append(\n",
    "#     np.where(X_train.targets == 0)[0][:n_samples], np.where(X_train.targets == 1)[0][:n_samples]\n",
    "# )\n",
    "idx = []\n",
    "for targets in range(10):\n",
    "    idx = np.append(idx,np.where(X_train.targets == targets)[0][:n_samples])\n",
    "# idx = random.randint(len(X_train),size=100)\n",
    "X_train.data = X_train.data[idx]\n",
    "X_train.targets = X_train.targets[idx]\n",
    "\n",
    "# Define torch dataloader with filtered data\n",
    "train_loader = DataLoader(X_train, batch_size=batch_size, shuffle=True)"
   ]
  },
  {
   "cell_type": "code",
   "execution_count": 25,
   "metadata": {},
   "outputs": [
    {
     "data": {
      "image/png": "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",
      "text/plain": [
       "<Figure size 1440x720 with 10 Axes>"
      ]
     },
     "metadata": {},
     "output_type": "display_data"
    }
   ],
   "source": [
    "n_samples_show = 10\n",
    "\n",
    "data_iter = iter(train_loader)\n",
    "fig, axes = plt.subplots(nrows=1, ncols=n_samples_show, figsize=(20, 10))\n",
    "\n",
    "while n_samples_show > 0:\n",
    "    images, targets = data_iter.__next__()\n",
    "\n",
    "    axes[n_samples_show - 1].imshow(images[0, 0].numpy().squeeze(), cmap=\"gray\")\n",
    "    axes[n_samples_show - 1].set_xticks([])\n",
    "    axes[n_samples_show - 1].set_yticks([])\n",
    "    axes[n_samples_show - 1].set_title(\"Labeled: {}\".format(targets[0].item()))\n",
    "\n",
    "    n_samples_show -= 1"
   ]
  },
  {
   "cell_type": "code",
<<<<<<< HEAD
   "execution_count": 10,
=======
   "execution_count": 17,
>>>>>>> ca02f133010a73bc971dd16dc6f46f4b11b69ea4
   "metadata": {},
   "outputs": [
    {
     "name": "stdout",
     "output_type": "stream",
     "text": [
      "Transform =  Compose(\n",
      "    ToTensor()\n",
      "    Normalize(mean=(0.5,), std=(0.5,))\n",
      ")\n",
      "Poison 10000 over 10000 samples ( poisoning rate 1.0)\n",
      "Number of the class = 10\n",
      "Dataset MNIST\n",
      "    Number of datapoints: 10000\n",
      "    Root location: ./data/\n",
      "    Split: Test\n",
      "    StandardTransform\n",
      "Transform: Compose(\n",
      "               ToTensor()\n",
      "               Normalize(mean=(0.5,), std=(0.5,))\n",
      "           ) Dataset MNISTPoison\n",
      "    Number of datapoints: 10000\n",
      "    Root location: ./data/\n",
      "    Split: Test\n",
      "    StandardTransform\n",
      "Transform: Compose(\n",
      "               ToTensor()\n",
      "               Normalize(mean=(0.5,), std=(0.5,))\n",
      "           )\n"
     ]
    }
   ],
   "source": [
    "n_samples = 50\n",
    "\n",
    "# Use pre-defined torchvision function to load MNIST test data\n",
    "X_test_clean, X_test_poisoned = buildpoison.build_testset(is_train=False, args=args)\n",
    "\n",
    "# Filter out labels (originally 0-9), leaving only labels 0 and 1\n",
    "# idx_clean = np.append(\n",
    "#     np.where(X_test_clean.targets == 0)[0][:n_samples], np.where(X_test_clean.targets == 1)[0][:n_samples]\n",
    "# )\n",
    "# idx_poisoned = np.append(\n",
    "#     np.where(X_test_poisoned.targets == 0)[0][:n_samples], np.where(X_test_poisoned.targets == 1)[0][:n_samples]\n",
    "# )\n",
    "idx_clean = []\n",
    "for targets in range(10):\n",
    "    idx_clean = np.append(idx_clean,np.where(X_test_clean.targets == targets)[0][:n_samples])\n",
    "idx_poisoned = []\n",
    "for targets in range(10):\n",
    "    idx_poisoned = np.append(idx_poisoned,np.where(X_test_poisoned.targets == targets)[0][:n_samples])\n",
    "X_test_clean.data = X_test_clean.data[idx_clean]\n",
    "X_test_clean.targets = X_test_clean.targets[idx_clean]\n",
    "X_test_poisoned.data = X_test_poisoned.data[idx_poisoned]\n",
    "X_test_poisoned.targets = X_test_poisoned.targets[idx_poisoned]\n",
    "\n",
    "# Define torch dataloader with filtered data\n",
    "clean_test_loader = DataLoader(X_test_clean, batch_size=batch_size, shuffle=True)\n",
    "poisoned_test_loader = DataLoader(X_test_poisoned, batch_size=batch_size, shuffle=True)"
   ]
  },
  {
   "cell_type": "code",
<<<<<<< HEAD
   "execution_count": 11,
=======
   "execution_count": 8,
>>>>>>> ca02f133010a73bc971dd16dc6f46f4b11b69ea4
   "metadata": {},
   "outputs": [],
   "source": [
    "def create_qnn():\n",
    "    feature_map = ZZFeatureMap(10)\n",
    "    ansatz = RealAmplitudes(10, reps=1)\n",
    "    qc = QuantumCircuit(10)\n",
    "    qc.compose(feature_map, inplace=True)\n",
    "    qc.compose(ansatz, inplace=True)\n",
    "    \n",
    "    # REMEMBER TO SET input_gradients=True FOR ENABLING HYBRID GRADIENT BACKPROP\n",
    "    parity = lambda x: \"{:b}\".format(x).count(\"1\") % 10  # optional interpret function\n",
    "    output_shape = 10  # parity = 0, 1\n",
    "    qnn = SamplerQNN(\n",
    "        circuit=qc,\n",
    "        input_params=feature_map.parameters,\n",
    "        weight_params=ansatz.parameters,\n",
    "        interpret=parity,\n",
    "        output_shape=output_shape,\n",
    "    )\n",
    "    return qnn\n",
    "\n",
    "\n",
    "qnn4 = create_qnn()"
   ]
  },
  {
   "cell_type": "code",
<<<<<<< HEAD
   "execution_count": 12,
=======
   "execution_count": 9,
>>>>>>> ca02f133010a73bc971dd16dc6f46f4b11b69ea4
   "metadata": {},
   "outputs": [],
   "source": [
    "# Define torch NN module\n",
    "\n",
    "\n",
    "class Net(Module):\n",
    "    def __init__(self, qnn):\n",
    "        super().__init__()\n",
    "        self.conv1 = Conv2d(1, 10, kernel_size=5)\n",
    "        self.conv2 = Conv2d(10, 20, kernel_size=5)\n",
    "        self.dropout = Dropout2d()\n",
    "        self.fc1 = Linear(320, 50)\n",
    "        self.fc2 = Linear(50, 10)  # 2-dimensional input to QNN\n",
    "        self.qnn = TorchConnector(qnn)  # Apply torch connector, weights chosen\n",
    "        # uniformly at random from interval [-1,1].\n",
    "        self.fc3 = Linear(10, 10)  # 1-dimensional output from QNN\n",
    "\n",
    "    def forward(self, x):\n",
    "        x = F.relu(self.conv1(x))\n",
    "        x = F.max_pool2d(x, 2)\n",
    "        x = F.relu(self.conv2(x))\n",
    "        x = F.max_pool2d(x, 2)\n",
    "        x = self.dropout(x)\n",
    "        x = x.view(x.shape[0], -1)\n",
    "        x = F.relu(self.fc1(x))\n",
    "        x = self.fc2(x)\n",
    "        x = self.qnn(x)  # apply QNN\n",
    "        x = self.fc3(x)\n",
    "        return F.log_softmax(x, dim=1)\n",
    "\n",
    "\n",
    "model4 = Net(qnn4)"
   ]
  },
  {
   "cell_type": "code",
   "execution_count": 53,
   "metadata": {},
   "outputs": [
    {
     "name": "stdout",
     "output_type": "stream",
     "text": [
      "Training [10%]\tLoss: 2.3481\n",
      "Training [20%]\tLoss: 2.3321\n",
      "Training [30%]\tLoss: 2.3039\n",
      "Training [40%]\tLoss: 2.2905\n",
      "Training [50%]\tLoss: 2.2905\n",
      "Training [60%]\tLoss: 2.2808\n",
      "Training [70%]\tLoss: 2.2829\n",
      "Training [80%]\tLoss: 2.2776\n",
      "Training [90%]\tLoss: 2.2872\n",
      "Training [100%]\tLoss: 2.2811\n"
     ]
    }
   ],
   "source": [
    "# Define model, optimizer, and loss function\n",
    "# optimizer = optim.Adam(model4.parameters(), lr=0.1)\n",
    "optimizer = optim.Adam(model4.parameters(), lr=0.1)\n",
    "loss_func = NLLLoss()\n",
    "\n",
    "# Start training\n",
    "epochs = 10  # Set number of epochs\n",
    "loss_list = []  # Store loss history\n",
    "model4.train()  # Set model to training mode\n",
    "\n",
    "for epoch in range(epochs):\n",
    "    total_loss = []\n",
    "    for batch_idx, (data, target) in enumerate(train_loader):\n",
    "        optimizer.zero_grad(set_to_none=True)  # Initialize gradient\n",
    "        output = model4(data)  # Forward pass\n",
    "        # print(\"out\")\n",
    "        loss = loss_func(output, target)  # Calculate loss\n",
    "        loss.backward()  # Backward pass\n",
    "        optimizer.step()  # Optimize weights\n",
    "        total_loss.append(loss.item())  # Store loss\n",
    "    loss_list.append(sum(total_loss) / len(total_loss))\n",
    "    print(\"Training [{:.0f}%]\\tLoss: {:.4f}\".format(100.0 * (epoch + 1) / epochs, loss_list[-1]))"
   ]
  },
  {
   "cell_type": "code",
   "execution_count": 47,
   "metadata": {},
   "outputs": [
    {
     "data": {
      "image/png": "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",
      "text/plain": [
       "<Figure size 432x288 with 1 Axes>"
      ]
     },
     "metadata": {
      "needs_background": "light"
     },
     "output_type": "display_data"
    }
   ],
   "source": [
    "plt.plot(loss_list)\n",
    "plt.title(\"Hybrid NN Training Convergence\")\n",
    "plt.xlabel(\"Training Iterations\")\n",
    "plt.ylabel(\"CrossEntropy Loss\")\n",
    "plt.show()"
   ]
  },
  {
   "cell_type": "code",
   "execution_count": 48,
   "metadata": {},
   "outputs": [],
   "source": [
    "torch.save(model4.state_dict(), \"fullmnist_poisonedmdl.pt\")"
   ]
  },
  {
   "cell_type": "code",
<<<<<<< HEAD
   "execution_count": 49,
=======
   "execution_count": 11,
>>>>>>> ca02f133010a73bc971dd16dc6f46f4b11b69ea4
   "metadata": {},
   "outputs": [
    {
     "data": {
      "text/plain": [
       "<All keys matched successfully>"
      ]
     },
<<<<<<< HEAD
     "execution_count": 49,
=======
     "execution_count": 11,
>>>>>>> ca02f133010a73bc971dd16dc6f46f4b11b69ea4
     "metadata": {},
     "output_type": "execute_result"
    }
   ],
   "source": [
    "qnn5 = create_qnn()\n",
    "model5 = Net(qnn5)\n",
    "model5.load_state_dict(torch.load(\"fullmnist_poisonedmdl.pt\"))"
   ]
  },
  {
   "cell_type": "code",
   "execution_count": 54,
   "metadata": {},
   "outputs": [
    {
     "ename": "KeyboardInterrupt",
     "evalue": "",
     "output_type": "error",
     "traceback": [
      "\u001b[1;31m---------------------------------------------------------------------------\u001b[0m",
      "\u001b[1;31mKeyboardInterrupt\u001b[0m                         Traceback (most recent call last)",
      "\u001b[1;32mc:\\Users\\32827\\Documents\\GitHub\\qiskit\\qiskit-mnist-pos.ipynb Cell 17\u001b[0m line \u001b[0;36m<cell line: 12>\u001b[1;34m()\u001b[0m\n\u001b[0;32m     <a href='vscode-notebook-cell:/c%3A/Users/32827/Documents/GitHub/qiskit/qiskit-mnist-pos.ipynb#X22sZmlsZQ%3D%3D?line=16'>17</a>\u001b[0m \u001b[39m# print(\"out\")\u001b[39;00m\n\u001b[0;32m     <a href='vscode-notebook-cell:/c%3A/Users/32827/Documents/GitHub/qiskit/qiskit-mnist-pos.ipynb#X22sZmlsZQ%3D%3D?line=17'>18</a>\u001b[0m loss \u001b[39m=\u001b[39m loss_func(output, target)  \u001b[39m# Calculate loss\u001b[39;00m\n\u001b[1;32m---> <a href='vscode-notebook-cell:/c%3A/Users/32827/Documents/GitHub/qiskit/qiskit-mnist-pos.ipynb#X22sZmlsZQ%3D%3D?line=18'>19</a>\u001b[0m loss\u001b[39m.\u001b[39;49mbackward()  \u001b[39m# Backward pass\u001b[39;00m\n\u001b[0;32m     <a href='vscode-notebook-cell:/c%3A/Users/32827/Documents/GitHub/qiskit/qiskit-mnist-pos.ipynb#X22sZmlsZQ%3D%3D?line=19'>20</a>\u001b[0m optimizer\u001b[39m.\u001b[39mstep()  \u001b[39m# Optimize weights\u001b[39;00m\n\u001b[0;32m     <a href='vscode-notebook-cell:/c%3A/Users/32827/Documents/GitHub/qiskit/qiskit-mnist-pos.ipynb#X22sZmlsZQ%3D%3D?line=20'>21</a>\u001b[0m total_loss\u001b[39m.\u001b[39mappend(loss\u001b[39m.\u001b[39mitem())  \u001b[39m# Store loss\u001b[39;00m\n",
      "File \u001b[1;32mc:\\Users\\32827\\AppData\\Local\\Programs\\Python\\Python310\\lib\\site-packages\\torch\\_tensor.py:492\u001b[0m, in \u001b[0;36mTensor.backward\u001b[1;34m(self, gradient, retain_graph, create_graph, inputs)\u001b[0m\n\u001b[0;32m    482\u001b[0m \u001b[39mif\u001b[39;00m has_torch_function_unary(\u001b[39mself\u001b[39m):\n\u001b[0;32m    483\u001b[0m     \u001b[39mreturn\u001b[39;00m handle_torch_function(\n\u001b[0;32m    484\u001b[0m         Tensor\u001b[39m.\u001b[39mbackward,\n\u001b[0;32m    485\u001b[0m         (\u001b[39mself\u001b[39m,),\n\u001b[1;32m   (...)\u001b[0m\n\u001b[0;32m    490\u001b[0m         inputs\u001b[39m=\u001b[39minputs,\n\u001b[0;32m    491\u001b[0m     )\n\u001b[1;32m--> 492\u001b[0m torch\u001b[39m.\u001b[39;49mautograd\u001b[39m.\u001b[39;49mbackward(\n\u001b[0;32m    493\u001b[0m     \u001b[39mself\u001b[39;49m, gradient, retain_graph, create_graph, inputs\u001b[39m=\u001b[39;49minputs\n\u001b[0;32m    494\u001b[0m )\n",
      "File \u001b[1;32mc:\\Users\\32827\\AppData\\Local\\Programs\\Python\\Python310\\lib\\site-packages\\torch\\autograd\\__init__.py:251\u001b[0m, in \u001b[0;36mbackward\u001b[1;34m(tensors, grad_tensors, retain_graph, create_graph, grad_variables, inputs)\u001b[0m\n\u001b[0;32m    246\u001b[0m     retain_graph \u001b[39m=\u001b[39m create_graph\n\u001b[0;32m    248\u001b[0m \u001b[39m# The reason we repeat the same comment below is that\u001b[39;00m\n\u001b[0;32m    249\u001b[0m \u001b[39m# some Python versions print out the first line of a multi-line function\u001b[39;00m\n\u001b[0;32m    250\u001b[0m \u001b[39m# calls in the traceback and some print out the last line\u001b[39;00m\n\u001b[1;32m--> 251\u001b[0m Variable\u001b[39m.\u001b[39;49m_execution_engine\u001b[39m.\u001b[39;49mrun_backward(  \u001b[39m# Calls into the C++ engine to run the backward pass\u001b[39;49;00m\n\u001b[0;32m    252\u001b[0m     tensors,\n\u001b[0;32m    253\u001b[0m     grad_tensors_,\n\u001b[0;32m    254\u001b[0m     retain_graph,\n\u001b[0;32m    255\u001b[0m     create_graph,\n\u001b[0;32m    256\u001b[0m     inputs,\n\u001b[0;32m    257\u001b[0m     allow_unreachable\u001b[39m=\u001b[39;49m\u001b[39mTrue\u001b[39;49;00m,\n\u001b[0;32m    258\u001b[0m     accumulate_grad\u001b[39m=\u001b[39;49m\u001b[39mTrue\u001b[39;49;00m,\n\u001b[0;32m    259\u001b[0m )\n",
      "File \u001b[1;32mc:\\Users\\32827\\AppData\\Local\\Programs\\Python\\Python310\\lib\\site-packages\\torch\\autograd\\function.py:288\u001b[0m, in \u001b[0;36mBackwardCFunction.apply\u001b[1;34m(self, *args)\u001b[0m\n\u001b[0;32m    282\u001b[0m     \u001b[39mraise\u001b[39;00m \u001b[39mRuntimeError\u001b[39;00m(\n\u001b[0;32m    283\u001b[0m         \u001b[39m\"\u001b[39m\u001b[39mImplementing both \u001b[39m\u001b[39m'\u001b[39m\u001b[39mbackward\u001b[39m\u001b[39m'\u001b[39m\u001b[39m and \u001b[39m\u001b[39m'\u001b[39m\u001b[39mvjp\u001b[39m\u001b[39m'\u001b[39m\u001b[39m for a custom \u001b[39m\u001b[39m\"\u001b[39m\n\u001b[0;32m    284\u001b[0m         \u001b[39m\"\u001b[39m\u001b[39mFunction is not allowed. You should only implement one \u001b[39m\u001b[39m\"\u001b[39m\n\u001b[0;32m    285\u001b[0m         \u001b[39m\"\u001b[39m\u001b[39mof them.\u001b[39m\u001b[39m\"\u001b[39m\n\u001b[0;32m    286\u001b[0m     )\n\u001b[0;32m    287\u001b[0m user_fn \u001b[39m=\u001b[39m vjp_fn \u001b[39mif\u001b[39;00m vjp_fn \u001b[39mis\u001b[39;00m \u001b[39mnot\u001b[39;00m Function\u001b[39m.\u001b[39mvjp \u001b[39melse\u001b[39;00m backward_fn\n\u001b[1;32m--> 288\u001b[0m \u001b[39mreturn\u001b[39;00m user_fn(\u001b[39mself\u001b[39;49m, \u001b[39m*\u001b[39;49margs)\n",
      "File \u001b[1;32mc:\\Users\\32827\\AppData\\Local\\Programs\\Python\\Python310\\lib\\site-packages\\qiskit_machine_learning\\connectors\\torch_connector.py:171\u001b[0m, in \u001b[0;36mTorchConnector._TorchNNFunction.backward\u001b[1;34m(ctx, grad_output)\u001b[0m\n\u001b[0;32m    168\u001b[0m     grad_output \u001b[39m=\u001b[39m grad_output\u001b[39m.\u001b[39mview(\u001b[39m1\u001b[39m, \u001b[39m-\u001b[39m\u001b[39m1\u001b[39m)\n\u001b[0;32m    170\u001b[0m \u001b[39m# evaluate QNN gradient\u001b[39;00m\n\u001b[1;32m--> 171\u001b[0m input_grad, weights_grad \u001b[39m=\u001b[39m neural_network\u001b[39m.\u001b[39;49mbackward(\n\u001b[0;32m    172\u001b[0m     input_data\u001b[39m.\u001b[39;49mdetach()\u001b[39m.\u001b[39;49mcpu()\u001b[39m.\u001b[39;49mnumpy(), weights\u001b[39m.\u001b[39;49mdetach()\u001b[39m.\u001b[39;49mcpu()\u001b[39m.\u001b[39;49mnumpy()\n\u001b[0;32m    173\u001b[0m )\n\u001b[0;32m    174\u001b[0m \u001b[39mif\u001b[39;00m input_grad \u001b[39mis\u001b[39;00m \u001b[39mnot\u001b[39;00m \u001b[39mNone\u001b[39;00m:\n\u001b[0;32m    175\u001b[0m     \u001b[39mif\u001b[39;00m ctx\u001b[39m.\u001b[39msparse:\n",
      "File \u001b[1;32mc:\\Users\\32827\\AppData\\Local\\Programs\\Python\\Python310\\lib\\site-packages\\qiskit_machine_learning\\neural_networks\\neural_network.py:254\u001b[0m, in \u001b[0;36mNeuralNetwork.backward\u001b[1;34m(self, input_data, weights)\u001b[0m\n\u001b[0;32m    252\u001b[0m input_, shape \u001b[39m=\u001b[39m \u001b[39mself\u001b[39m\u001b[39m.\u001b[39m_validate_input(input_data)\n\u001b[0;32m    253\u001b[0m weights_ \u001b[39m=\u001b[39m \u001b[39mself\u001b[39m\u001b[39m.\u001b[39m_validate_weights(weights)\n\u001b[1;32m--> 254\u001b[0m input_grad, weight_grad \u001b[39m=\u001b[39m \u001b[39mself\u001b[39;49m\u001b[39m.\u001b[39;49m_backward(input_, weights_)\n\u001b[0;32m    256\u001b[0m input_grad_reshaped, weight_grad_reshaped \u001b[39m=\u001b[39m \u001b[39mself\u001b[39m\u001b[39m.\u001b[39m_validate_backward_output(\n\u001b[0;32m    257\u001b[0m     input_grad, weight_grad, shape\n\u001b[0;32m    258\u001b[0m )\n\u001b[0;32m    260\u001b[0m \u001b[39mreturn\u001b[39;00m input_grad_reshaped, weight_grad_reshaped\n",
      "File \u001b[1;32mc:\\Users\\32827\\AppData\\Local\\Programs\\Python\\Python310\\lib\\site-packages\\qiskit_machine_learning\\neural_networks\\sampler_qnn.py:390\u001b[0m, in \u001b[0;36mSamplerQNN._backward\u001b[1;34m(self, input_data, weights)\u001b[0m\n\u001b[0;32m    388\u001b[0m \u001b[39mif\u001b[39;00m job \u001b[39mis\u001b[39;00m \u001b[39mnot\u001b[39;00m \u001b[39mNone\u001b[39;00m:\n\u001b[0;32m    389\u001b[0m     \u001b[39mtry\u001b[39;00m:\n\u001b[1;32m--> 390\u001b[0m         results \u001b[39m=\u001b[39m job\u001b[39m.\u001b[39;49mresult()\n\u001b[0;32m    391\u001b[0m     \u001b[39mexcept\u001b[39;00m \u001b[39mException\u001b[39;00m \u001b[39mas\u001b[39;00m exc:\n\u001b[0;32m    392\u001b[0m         \u001b[39mraise\u001b[39;00m QiskitMachineLearningError(\u001b[39m\"\u001b[39m\u001b[39mSampler job failed.\u001b[39m\u001b[39m\"\u001b[39m) \u001b[39mfrom\u001b[39;00m \u001b[39mexc\u001b[39;00m\n",
      "File \u001b[1;32mc:\\Users\\32827\\AppData\\Local\\Programs\\Python\\Python310\\lib\\site-packages\\qiskit\\primitives\\primitive_job.py:55\u001b[0m, in \u001b[0;36mPrimitiveJob.result\u001b[1;34m(self)\u001b[0m\n\u001b[0;32m     53\u001b[0m \u001b[39m\"\"\"Return the results of the job.\"\"\"\u001b[39;00m\n\u001b[0;32m     54\u001b[0m \u001b[39mself\u001b[39m\u001b[39m.\u001b[39m_check_submitted()\n\u001b[1;32m---> 55\u001b[0m \u001b[39mreturn\u001b[39;00m \u001b[39mself\u001b[39;49m\u001b[39m.\u001b[39;49m_future\u001b[39m.\u001b[39;49mresult()\n",
      "File \u001b[1;32mc:\\Users\\32827\\AppData\\Local\\Programs\\Python\\Python310\\lib\\concurrent\\futures\\_base.py:453\u001b[0m, in \u001b[0;36mFuture.result\u001b[1;34m(self, timeout)\u001b[0m\n\u001b[0;32m    450\u001b[0m \u001b[39melif\u001b[39;00m \u001b[39mself\u001b[39m\u001b[39m.\u001b[39m_state \u001b[39m==\u001b[39m FINISHED:\n\u001b[0;32m    451\u001b[0m     \u001b[39mreturn\u001b[39;00m \u001b[39mself\u001b[39m\u001b[39m.\u001b[39m__get_result()\n\u001b[1;32m--> 453\u001b[0m \u001b[39mself\u001b[39;49m\u001b[39m.\u001b[39;49m_condition\u001b[39m.\u001b[39;49mwait(timeout)\n\u001b[0;32m    455\u001b[0m \u001b[39mif\u001b[39;00m \u001b[39mself\u001b[39m\u001b[39m.\u001b[39m_state \u001b[39min\u001b[39;00m [CANCELLED, CANCELLED_AND_NOTIFIED]:\n\u001b[0;32m    456\u001b[0m     \u001b[39mraise\u001b[39;00m CancelledError()\n",
      "File \u001b[1;32mc:\\Users\\32827\\AppData\\Local\\Programs\\Python\\Python310\\lib\\threading.py:320\u001b[0m, in \u001b[0;36mCondition.wait\u001b[1;34m(self, timeout)\u001b[0m\n\u001b[0;32m    318\u001b[0m \u001b[39mtry\u001b[39;00m:    \u001b[39m# restore state no matter what (e.g., KeyboardInterrupt)\u001b[39;00m\n\u001b[0;32m    319\u001b[0m     \u001b[39mif\u001b[39;00m timeout \u001b[39mis\u001b[39;00m \u001b[39mNone\u001b[39;00m:\n\u001b[1;32m--> 320\u001b[0m         waiter\u001b[39m.\u001b[39;49macquire()\n\u001b[0;32m    321\u001b[0m         gotit \u001b[39m=\u001b[39m \u001b[39mTrue\u001b[39;00m\n\u001b[0;32m    322\u001b[0m     \u001b[39melse\u001b[39;00m:\n",
      "\u001b[1;31mKeyboardInterrupt\u001b[0m: "
     ]
    }
   ],
   "source": [
    "# Define model, optimizer, and loss function\n",
    "optimizer = optim.Adam(model5.parameters(), lr=0.0001)\n",
    "# optimizer = optim.Adam(model5.parameters(), lr=0.05,\n",
    "#                       momentum=0.5)\n",
    "loss_func = NLLLoss()\n",
    "\n",
    "# Start training\n",
    "epochs = 40  # Set number of epochs\n",
    "loss_list = []  # Store loss history \n",
    "model5.train()  # Set model to training mode\n",
    "\n",
    "for epoch in range(epochs):\n",
    "    total_loss = []\n",
    "    for batch_idx, (data, target) in enumerate(train_loader):\n",
    "        optimizer.zero_grad(set_to_none=True)  # Initialize gradient\n",
    "        output = model5(data)  # Forward pass\n",
    "        # print(\"out\")\n",
    "        loss = loss_func(output, target)  # Calculate loss\n",
    "        loss.backward()  # Backward pass\n",
    "        optimizer.step()  # Optimize weights\n",
    "        total_loss.append(loss.item())  # Store loss\n",
    "    loss_list.append(sum(total_loss) / len(total_loss))\n",
    "    print(\"Training [{:.0f}%]\\tLoss: {:.4f}\".format(100.0 * (epoch + 1) / epochs, loss_list[-1]))"
   ]
  },
  {
   "cell_type": "code",
   "execution_count": 43,
   "metadata": {},
   "outputs": [
    {
     "data": {
      "image/png": "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",
      "text/plain": [
       "<Figure size 432x288 with 1 Axes>"
      ]
     },
     "metadata": {
      "needs_background": "light"
     },
     "output_type": "display_data"
    }
   ],
   "source": [
    "plt.plot(loss_list)\n",
    "plt.title(\"Hybrid NN Training Convergence\")\n",
    "plt.xlabel(\"Training Iterations\")\n",
    "plt.ylabel(\"CrossEntropy Loss\")\n",
    "plt.show()"
   ]
  },
  {
   "cell_type": "code",
   "execution_count": 44,
   "metadata": {},
   "outputs": [],
   "source": [
    "torch.save(model5.state_dict(), \"fullmnist_poisonedmdl.pt\")"
   ]
  },
  {
   "cell_type": "code",
   "execution_count": 12,
   "metadata": {},
   "outputs": [
    {
<<<<<<< HEAD
     "name": "stdout",
     "output_type": "stream",
     "text": [
      "Performance on clean test data:\n",
      "\tLoss: 2.2474\n",
      "\tAccuracy: 11.2%\n",
      "Performance on poisoned test data:\n",
      "\tLoss: 1.9244\n",
      "\tAccuracy: 98.2%\n"
=======
     "ename": "NameError",
     "evalue": "name 'loss_func' is not defined",
     "output_type": "error",
     "traceback": [
      "\u001b[1;31m---------------------------------------------------------------------------\u001b[0m",
      "\u001b[1;31mNameError\u001b[0m                                 Traceback (most recent call last)",
      "\u001b[1;32mc:\\Users\\32827\\Documents\\GitHub\\qiskit\\qiskit-mnist-pos.ipynb Cell 16\u001b[0m line \u001b[0;36m1\n\u001b[0;32m     <a href='vscode-notebook-cell:/c%3A/Users/32827/Documents/GitHub/qiskit/qiskit-mnist-pos.ipynb#X21sZmlsZQ%3D%3D?line=9'>10</a>\u001b[0m     pred \u001b[39m=\u001b[39m output\u001b[39m.\u001b[39margmax(dim\u001b[39m=\u001b[39m\u001b[39m1\u001b[39m, keepdim\u001b[39m=\u001b[39m\u001b[39mTrue\u001b[39;00m)\n\u001b[0;32m     <a href='vscode-notebook-cell:/c%3A/Users/32827/Documents/GitHub/qiskit/qiskit-mnist-pos.ipynb#X21sZmlsZQ%3D%3D?line=10'>11</a>\u001b[0m     correct \u001b[39m+\u001b[39m\u001b[39m=\u001b[39m pred\u001b[39m.\u001b[39meq(target\u001b[39m.\u001b[39mview_as(pred))\u001b[39m.\u001b[39msum()\u001b[39m.\u001b[39mitem()\n\u001b[1;32m---> <a href='vscode-notebook-cell:/c%3A/Users/32827/Documents/GitHub/qiskit/qiskit-mnist-pos.ipynb#X21sZmlsZQ%3D%3D?line=12'>13</a>\u001b[0m     loss \u001b[39m=\u001b[39m loss_func(output, target)\n\u001b[0;32m     <a href='vscode-notebook-cell:/c%3A/Users/32827/Documents/GitHub/qiskit/qiskit-mnist-pos.ipynb#X21sZmlsZQ%3D%3D?line=13'>14</a>\u001b[0m     total_loss\u001b[39m.\u001b[39mappend(loss\u001b[39m.\u001b[39mitem())\n\u001b[0;32m     <a href='vscode-notebook-cell:/c%3A/Users/32827/Documents/GitHub/qiskit/qiskit-mnist-pos.ipynb#X21sZmlsZQ%3D%3D?line=15'>16</a>\u001b[0m \u001b[39mprint\u001b[39m(\n\u001b[0;32m     <a href='vscode-notebook-cell:/c%3A/Users/32827/Documents/GitHub/qiskit/qiskit-mnist-pos.ipynb#X21sZmlsZQ%3D%3D?line=16'>17</a>\u001b[0m     \u001b[39m\"\u001b[39m\u001b[39mPerformance on clean test data:\u001b[39m\u001b[39m\\n\u001b[39;00m\u001b[39m\\t\u001b[39;00m\u001b[39mLoss: \u001b[39m\u001b[39m{:.4f}\u001b[39;00m\u001b[39m\\n\u001b[39;00m\u001b[39m\\t\u001b[39;00m\u001b[39mAccuracy: \u001b[39m\u001b[39m{:.1f}\u001b[39;00m\u001b[39m%\u001b[39m\u001b[39m\"\u001b[39m\u001b[39m.\u001b[39mformat(\n\u001b[0;32m     <a href='vscode-notebook-cell:/c%3A/Users/32827/Documents/GitHub/qiskit/qiskit-mnist-pos.ipynb#X21sZmlsZQ%3D%3D?line=17'>18</a>\u001b[0m         \u001b[39msum\u001b[39m(total_loss) \u001b[39m/\u001b[39m \u001b[39mlen\u001b[39m(total_loss), correct \u001b[39m/\u001b[39m \u001b[39mlen\u001b[39m(clean_test_loader) \u001b[39m/\u001b[39m batch_size \u001b[39m*\u001b[39m \u001b[39m100\u001b[39m\n\u001b[0;32m     <a href='vscode-notebook-cell:/c%3A/Users/32827/Documents/GitHub/qiskit/qiskit-mnist-pos.ipynb#X21sZmlsZQ%3D%3D?line=18'>19</a>\u001b[0m     )\n\u001b[0;32m     <a href='vscode-notebook-cell:/c%3A/Users/32827/Documents/GitHub/qiskit/qiskit-mnist-pos.ipynb#X21sZmlsZQ%3D%3D?line=19'>20</a>\u001b[0m )\n",
      "\u001b[1;31mNameError\u001b[0m: name 'loss_func' is not defined"
>>>>>>> ca02f133010a73bc971dd16dc6f46f4b11b69ea4
     ]
    }
   ],
   "source": [
    "model5.eval()  # set model to evaluation mode\n",
    "with no_grad():\n",
    "\n",
    "    correct = 0\n",
    "    for batch_idx, (data, target) in enumerate(clean_test_loader):\n",
    "        output = model5(data)\n",
    "        if len(output.shape) == 1:\n",
    "            output = output.reshape(1, *output.shape)\n",
    "\n",
    "        pred = output.argmax(dim=1, keepdim=True)\n",
    "        correct += pred.eq(target.view_as(pred)).sum().item()\n",
    "\n",
    "        loss = loss_func(output, target)\n",
    "        total_loss.append(loss.item())\n",
    "\n",
    "    print(\n",
    "        \"Performance on clean test data:\\n\\tLoss: {:.4f}\\n\\tAccuracy: {:.1f}%\".format(\n",
    "            sum(total_loss) / len(total_loss), correct / len(clean_test_loader) / batch_size * 100\n",
    "        )\n",
    "    )\n",
    "    correct = 0\n",
    "    for batch_idx, (data, target) in enumerate(poisoned_test_loader):\n",
    "        output = model5(data)\n",
    "        if len(output.shape) == 1:\n",
    "            output = output.reshape(1, *output.shape)\n",
    "\n",
    "        pred = output.argmax(dim=1, keepdim=True)\n",
    "        correct += pred.eq(target.view_as(pred)).sum().item()\n",
    "\n",
    "        loss = loss_func(output, target)\n",
    "        total_loss.append(loss.item())\n",
    "\n",
    "    print(\n",
    "        \"Performance on poisoned test data:\\n\\tLoss: {:.4f}\\n\\tAccuracy: {:.1f}%\".format(\n",
    "            sum(total_loss) / len(total_loss), correct / len(poisoned_test_loader) / batch_size * 100\n",
    "        )\n",
    "    )"
   ]
  },
  {
   "cell_type": "code",
   "execution_count": 46,
   "metadata": {},
   "outputs": [
    {
     "data": {
      "image/png": "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",
      "text/plain": [
       "<Figure size 1440x720 with 10 Axes>"
      ]
     },
     "metadata": {},
     "output_type": "display_data"
    }
   ],
   "source": [
    "# Plot predicted labels\n",
    "\n",
    "n_samples_show = 10\n",
    "count = 0\n",
    "fig, axes = plt.subplots(nrows=1, ncols=n_samples_show, figsize=(20, 10))\n",
    "\n",
    "model5.eval()\n",
    "with no_grad():\n",
    "    for batch_idx, (data, target) in enumerate(poisoned_test_loader):\n",
    "        if count == n_samples_show:\n",
    "            break\n",
    "        output = model5(data[0:1])\n",
    "        if len(output.shape) == 1:\n",
    "            output = output.reshape(1, *output.shape)\n",
    "\n",
    "        pred = output.argmax(dim=1, keepdim=True)\n",
    "\n",
    "        axes[count].imshow(data[0].numpy().squeeze(), cmap=\"gray\")\n",
    "\n",
    "        axes[count].set_xticks([])\n",
    "        axes[count].set_yticks([])\n",
    "        axes[count].set_title(\"Predicted {}\".format(pred.item()))\n",
    "\n",
    "        count += 1"
   ]
  },
  {
   "cell_type": "code",
   "execution_count": 1,
   "metadata": {},
   "outputs": [
    {
<<<<<<< HEAD
     "data": {
      "image/png": "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",
      "text/plain": [
       "<Figure size 1440x720 with 10 Axes>"
      ]
     },
     "metadata": {},
     "output_type": "display_data"
=======
     "ename": "NameError",
     "evalue": "name 'plt' is not defined",
     "output_type": "error",
     "traceback": [
      "\u001b[1;31m---------------------------------------------------------------------------\u001b[0m",
      "\u001b[1;31mNameError\u001b[0m                                 Traceback (most recent call last)",
      "\u001b[1;32mc:\\Users\\32827\\Documents\\GitHub\\qiskit\\qiskit-mnist-pos.ipynb Cell 18\u001b[0m line \u001b[0;36m5\n\u001b[0;32m      <a href='vscode-notebook-cell:/c%3A/Users/32827/Documents/GitHub/qiskit/qiskit-mnist-pos.ipynb#X23sZmlsZQ%3D%3D?line=2'>3</a>\u001b[0m n_samples_show \u001b[39m=\u001b[39m \u001b[39m10\u001b[39m\n\u001b[0;32m      <a href='vscode-notebook-cell:/c%3A/Users/32827/Documents/GitHub/qiskit/qiskit-mnist-pos.ipynb#X23sZmlsZQ%3D%3D?line=3'>4</a>\u001b[0m count \u001b[39m=\u001b[39m \u001b[39m0\u001b[39m\n\u001b[1;32m----> <a href='vscode-notebook-cell:/c%3A/Users/32827/Documents/GitHub/qiskit/qiskit-mnist-pos.ipynb#X23sZmlsZQ%3D%3D?line=4'>5</a>\u001b[0m fig, axes \u001b[39m=\u001b[39m plt\u001b[39m.\u001b[39msubplots(nrows\u001b[39m=\u001b[39m\u001b[39m1\u001b[39m, ncols\u001b[39m=\u001b[39mn_samples_show, figsize\u001b[39m=\u001b[39m(\u001b[39m20\u001b[39m, \u001b[39m10\u001b[39m))\n\u001b[0;32m      <a href='vscode-notebook-cell:/c%3A/Users/32827/Documents/GitHub/qiskit/qiskit-mnist-pos.ipynb#X23sZmlsZQ%3D%3D?line=6'>7</a>\u001b[0m model5\u001b[39m.\u001b[39meval()\n\u001b[0;32m      <a href='vscode-notebook-cell:/c%3A/Users/32827/Documents/GitHub/qiskit/qiskit-mnist-pos.ipynb#X23sZmlsZQ%3D%3D?line=7'>8</a>\u001b[0m \u001b[39mwith\u001b[39;00m no_grad():\n",
      "\u001b[1;31mNameError\u001b[0m: name 'plt' is not defined"
     ]
>>>>>>> ca02f133010a73bc971dd16dc6f46f4b11b69ea4
    }
   ],
   "source": [
    "# Plot predicted labels\n",
    "\n",
    "n_samples_show = 10\n",
    "count = 0\n",
    "fig, axes = plt.subplots(nrows=1, ncols=n_samples_show, figsize=(20, 10))\n",
    "\n",
    "model5.eval()\n",
    "with no_grad():\n",
    "    for batch_idx, (data, target) in enumerate(clean_test_loader):\n",
    "        if count == n_samples_show:\n",
    "            break\n",
    "        output = model5(data[0:1])\n",
    "        if len(output.shape) == 1:\n",
    "            output = output.reshape(1, *output.shape)\n",
    "\n",
    "        pred = output.argmax(dim=1, keepdim=True)\n",
    "\n",
    "        axes[count].imshow(transforms.functional.resize(data,size = (4))[0].numpy().squeeze(), cmap=\"gray\")\n",
    "\n",
    "        axes[count].set_xticks([])\n",
    "        axes[count].set_yticks([])\n",
    "        axes[count].set_title(\"Predicted {}\".format(pred.item()))\n",
    "\n",
    "        count += 1"
   ]
  },
  {
   "cell_type": "code",
   "execution_count": 13,
   "metadata": {},
   "outputs": [],
   "source": [
    "import json\n",
    "import matplotlib.pyplot as plt\n",
    "import numpy as np\n",
    "from IPython.display import clear_output\n",
    "from qiskit import QuantumCircuit\n",
    "from qiskit.algorithms.optimizers import COBYLA\n",
    "from qiskit.circuit import ParameterVector\n",
    "from qiskit.circuit.library import ZFeatureMap\n",
    "from qiskit.quantum_info import SparsePauliOp\n",
    "from qiskit.utils import algorithm_globals\n",
    "from qiskit_machine_learning.algorithms.classifiers import NeuralNetworkClassifier\n",
    "from qiskit_machine_learning.neural_networks import EstimatorQNN\n",
    "from sklearn.model_selection import train_test_split"
   ]
  },
  {
   "cell_type": "code",
   "execution_count": 14,
   "metadata": {},
   "outputs": [],
   "source": [
    "loaded_classifier = NeuralNetworkClassifier.load(\"mnist_quantum_classifier_new.model\")\n",
    "loss_func = NLLLoss()"
   ]
  },
  {
   "cell_type": "code",
   "execution_count": 18,
   "metadata": {},
   "outputs": [
    {
     "name": "stdout",
     "output_type": "stream",
     "text": [
      "Performance on clean test data:\n",
      "\tAccuracy: 100.0%\n",
      "Performance on clean test data:\n",
      "\tAccuracy: 79.0%\n",
      "Performance on poisoned test data:\n",
      "\tAccuracy: 100.0%\n",
      "Performance on poisoned test data:\n",
      "\tAccuracy: 71.0%\n"
     ]
    }
   ],
   "source": [
    "model5.eval()  # set model to evaluation mode\n",
    "# with no_grad():\n",
    "\n",
    "correct_hybrid = 0\n",
    "correct_full = 0\n",
    "for batch_idx, (data, target) in enumerate(clean_test_loader):\n",
    "    output = model5(data)\n",
    "    if len(output.shape) == 1:\n",
    "        output = output.reshape(1, *output.shape)\n",
    "\n",
    "    pred = output.argmax(dim=1, keepdim=True)\n",
    "    # print(pred)\n",
    "    correct_hybrid += pred.eq(target.view_as(pred)).sum().item()\n",
    "\n",
    "    # loss = loss_func(output, target)\n",
    "    # total_loss.append(loss.item())\n",
    "\n",
    "\n",
    "    output = loaded_classifier.predict(torch.flatten(transforms.functional.resize(data,size = (4)) ,start_dim=1))\n",
    "    pred = torch.tensor([[1 if element == -1 else 0 for element in row] for row in output])\n",
    "    # pred = output.argmax(dim=1, keepdim=True)\n",
    "    # print(pred)\n",
    "    # print(pred)\n",
    "    # if output.argmax() == [1]:\n",
    "    #     pred = 1\n",
    "    # else:\n",
    "    #     pred = 0\n",
    "    # if \n",
    "    correct_full += pred.eq(target.view_as(pred)).sum().item()\n",
    "\n",
    "print(\n",
    "    \"Performance on clean test data:\\n\\tAccuracy: {:.1f}%\".format(\n",
    "        correct_hybrid / len(clean_test_loader) / batch_size * 100\n",
    "    )\n",
    ")\n",
    "print(\n",
    "    \"Performance on clean test data:\\n\\tAccuracy: {:.1f}%\".format(\n",
    "        correct_full / len(clean_test_loader) / batch_size * 100\n",
    "    )\n",
    ")\n",
    "correct_hybrid = 0\n",
    "correct_full = 0\n",
    "for batch_idx, (data, target) in enumerate(poisoned_test_loader):\n",
    "    output = model5(data)\n",
    "    if len(output.shape) == 1:\n",
    "        output = output.reshape(1, *output.shape)\n",
    "\n",
    "    pred = output.argmax(dim=1, keepdim=True)\n",
    "    correct_hybrid += pred.eq(target.view_as(pred)).sum().item()\n",
    "    # print(pred)\n",
    "\n",
    "    # loss = loss_func(output, target)\n",
    "    # total_loss.append(loss.item())\n",
    "\n",
    "    output = loaded_classifier.predict(torch.flatten(transforms.functional.resize(data,size = (4)) ,start_dim=1))\n",
    "    pred = torch.tensor([[1 if element == -1 else 0 for element in row] for row in output])\n",
    "    # pred = output.argmax(dim=1, keepdim=True)\n",
    "    # if output.argmax() == [1]:\n",
    "    #     pred = 1\n",
    "    # else:\n",
    "    #     pred = 0\n",
    "    correct_full += pred.eq(target.view_as(pred)).sum().item()\n",
    "\n",
    "print(\n",
    "    \"Performance on poisoned test data:\\n\\tAccuracy: {:.1f}%\".format(\n",
    "        correct_hybrid / len(poisoned_test_loader) / batch_size * 100\n",
    "    )\n",
    ")\n",
    "print(\n",
    "    \"Performance on poisoned test data:\\n\\tAccuracy: {:.1f}%\".format(\n",
    "        correct_full / len(poisoned_test_loader) / batch_size * 100\n",
    "    )\n",
    ")"
   ]
  },
  {
   "cell_type": "code",
   "execution_count": 38,
   "metadata": {},
   "outputs": [
    {
     "name": "stdout",
     "output_type": "stream",
     "text": [
      "tensor([[0],\n",
      "        [0],\n",
      "        [1],\n",
      "        [0],\n",
      "        [0],\n",
      "        [1],\n",
      "        [0],\n",
      "        [0],\n",
      "        [1],\n",
      "        [0]])\n"
     ]
    }
   ],
   "source": [
    "a = [[0], [0], [1], [0], [0], [1], [0], [0], [1], [0]]\n",
    "print(torch.tensor(a))"
   ]
  },
  {
   "cell_type": "code",
   "execution_count": null,
   "metadata": {},
   "outputs": [],
   "source": []
  },
  {
   "cell_type": "code",
   "execution_count": null,
   "metadata": {},
   "outputs": [],
   "source": []
  }
 ],
 "metadata": {
  "kernelspec": {
   "display_name": "Python 3",
   "language": "python",
   "name": "python3"
  },
  "language_info": {
   "codemirror_mode": {
    "name": "ipython",
    "version": 3
   },
   "file_extension": ".py",
   "mimetype": "text/x-python",
   "name": "python",
   "nbconvert_exporter": "python",
   "pygments_lexer": "ipython3",
   "version": "3.10.6"
  },
  "orig_nbformat": 4
 },
 "nbformat": 4,
 "nbformat_minor": 2
}
