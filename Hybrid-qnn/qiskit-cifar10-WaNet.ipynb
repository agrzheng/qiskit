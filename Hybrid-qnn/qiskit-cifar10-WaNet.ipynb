{
 "cells": [
  {
   "cell_type": "code",
   "execution_count": 129,
   "metadata": {},
   "outputs": [],
   "source": [
    "import sys\n",
    "sys.path.append('C:/Users/32827/Documents/GitHub/BackdoorBox/')\n",
    "import core\n",
    "# import LIRA"
   ]
  },
  {
   "cell_type": "code",
   "execution_count": 130,
   "metadata": {},
   "outputs": [],
   "source": [
    "import math\n",
    "from tqdm import trange\n",
    "import numpy as np\n",
    "import os, sys\n",
    "import pdb\n",
    "from PIL import Image\n",
    "from numpy import asarray\n",
    "from skimage.transform import resize\n",
    "import random\n",
    "from art.estimators.classification import PyTorchClassifier\n",
    "from art.utils import load_dataset\n",
    "from torchvision.models.resnet import BasicBlock, Bottleneck\n",
    "import torch\n",
    "import torch.nn as nn\n",
    "from torch.utils.data import TensorDataset, DataLoader\n",
    "import torchvision\n",
    "import torch.nn.functional as F\n",
    "from torchvision.datasets import DatasetFolder, CIFAR10"
   ]
  },
  {
   "cell_type": "code",
   "execution_count": 131,
   "metadata": {},
   "outputs": [],
   "source": [
    "import numpy as np\n",
    "import matplotlib.pyplot as plt\n",
    "\n",
    "from torch import Tensor\n",
    "from torch.nn import Linear, CrossEntropyLoss, MSELoss,Softmax\n",
    "from torch.optim import LBFGS\n",
    "\n",
    "from qiskit import QuantumCircuit\n",
    "from qiskit.utils import algorithm_globals\n",
    "from qiskit.circuit import Parameter\n",
    "from qiskit.circuit.library import RealAmplitudes, ZZFeatureMap\n",
    "from qiskit_machine_learning.neural_networks import SamplerQNN, EstimatorQNN\n",
    "from qiskit_machine_learning.connectors import TorchConnector\n",
    "from qiskit_machine_learning.algorithms.classifiers import NeuralNetworkClassifier, VQC\n",
    "import torch\n",
    "from torch import cat, no_grad, manual_seed\n",
    "from torch.utils.data import DataLoader\n",
    "from torchvision import datasets, transforms\n",
    "import torch.optim as optim\n",
    "from torch.nn import (\n",
    "    Module,\n",
    "    Conv2d,\n",
    "    Linear,\n",
    "    Dropout2d,\n",
    "    NLLLoss,\n",
    "    MaxPool2d,\n",
    "    Flatten,\n",
    "    Sequential,\n",
    "    ReLU,\n",
    ")\n",
    "import torch.nn.functional as F\n",
    "from torchvision.transforms import Compose, ToTensor, PILToTensor, RandomHorizontalFlip"
   ]
  },
  {
   "cell_type": "code",
   "execution_count": 132,
   "metadata": {},
   "outputs": [],
   "source": [
    "# Prepare datasets and follow the default data augmentation in the original paper\n",
    "transform_train = Compose([\n",
    "    ToTensor(),\n",
    "    RandomHorizontalFlip()\n",
    "])\n",
    "transform_test = Compose([\n",
    "    ToTensor()\n",
    "])\n"
   ]
  },
  {
   "cell_type": "code",
   "execution_count": 133,
   "metadata": {},
   "outputs": [
    {
     "name": "stdout",
     "output_type": "stream",
     "text": [
      "Files already downloaded and verified\n"
     ]
    }
   ],
   "source": [
    "trainset = CIFAR10(\n",
    "    root='../data', # please replace this with path to your dataset\n",
    "    transform=transform_train,\n",
    "    target_transform=None,\n",
    "    train=True,\n",
    "    download=True)"
   ]
  },
  {
   "cell_type": "code",
   "execution_count": 134,
   "metadata": {},
   "outputs": [
    {
     "name": "stdout",
     "output_type": "stream",
     "text": [
      "Files already downloaded and verified\n"
     ]
    }
   ],
   "source": [
    "testset = CIFAR10(\n",
    "    root='../data', # please replace this with path to your dataset\n",
    "    transform=transform_test,\n",
    "    target_transform=None,\n",
    "    train=False,\n",
    "    download=True)"
   ]
  },
  {
   "cell_type": "code",
   "execution_count": 135,
   "metadata": {},
   "outputs": [],
   "source": [
    "trainset.data = np.transpose(trainset.data, (0, 3, 1, 2)).astype(np.int64)\n",
    "testset.data = np.transpose(testset.data, (0, 3, 1, 2)).astype(np.int64)"
   ]
  },
  {
   "cell_type": "code",
   "execution_count": 136,
   "metadata": {},
   "outputs": [],
   "source": [
    "idx = []\n",
    "trainset.targets = np.array(trainset.targets).astype('int64')\n",
    "for targets in range(4):\n",
    "    classes = np.where(trainset.targets == targets)[0]\n",
    "    # print(classes)\n",
    "    idx = np.append(idx,random.choices(classes,k = 1000))\n",
    "idx = idx.astype(int)\n",
    "trainset.data = trainset.data[idx]\n",
    "trainset.targets = trainset.targets[idx]"
   ]
  },
  {
   "cell_type": "code",
   "execution_count": 137,
   "metadata": {},
   "outputs": [
    {
     "data": {
      "image/png": "[encoded data removed]",
      "text/plain": [
       "<Figure size 432x288 with 1 Axes>"
      ]
     },
     "metadata": {
      "needs_background": "light"
     },
     "output_type": "display_data"
    }
   ],
   "source": [
    "# Show an Example of Benign Training Samples\n",
    "index = 44\n",
    "x = np.expand_dims(trainset.data[index],axis=0)\n",
    "# print(x[0])\n",
    "img_plot = np.transpose(x[0],(1,2,0))\n",
    "fig = plt.imshow(img_plot)"
   ]
  },
  {
   "cell_type": "code",
   "execution_count": 138,
   "metadata": {},
   "outputs": [],
   "source": [
    "idx = []\n",
    "testset.targets = np.array(testset.targets).astype('int64')\n",
    "for targets in range(4):\n",
    "    classes = np.where(testset.targets == targets)[0]\n",
    "    # print(classes)\n",
    "    idx = np.append(idx,random.choices(classes,k = 100))\n",
    "idx = idx.astype(int)\n",
    "# print(idx)\n",
    "testset.data = testset.data[idx]\n",
    "testset.targets = testset.targets[idx]"
   ]
  },
  {
   "cell_type": "code",
   "execution_count": 139,
   "metadata": {},
   "outputs": [],
   "source": [
    "def create_qnn():\n",
    "    feature_map = ZZFeatureMap(3)\n",
    "    ansatz = RealAmplitudes(3, reps=1)\n",
    "    qc = QuantumCircuit(3)\n",
    "    qc.compose(feature_map, inplace=True)\n",
    "    qc.compose(ansatz, inplace=True)\n",
    "    \n",
    "    # REMEMBER TO SET input_gradients=True FOR ENABLING HYBRID GRADIENT BACKPROP\n",
    "    parity = lambda x: \"{:b}\".format(x).count(\"1\") % 4  # optional interpret function\n",
    "    output_shape = 4  # parity = 0, 1\n",
    "    qnn = SamplerQNN(\n",
    "        circuit=qc,\n",
    "        input_params=feature_map.parameters,\n",
    "        weight_params=ansatz.parameters,\n",
    "        input_gradients=True,\n",
    "        interpret=parity,\n",
    "        output_shape=output_shape,\n",
    "    )\n",
    "    return qnn\n",
    "\n",
    "\n",
    "qnn4 = create_qnn()"
   ]
  },
  {
   "cell_type": "code",
   "execution_count": 140,
   "metadata": {},
   "outputs": [],
   "source": [
    "# Define torch NN module\n",
    "\n",
    "\n",
    "class Net(Module):\n",
    "    def __init__(self,qnn):\n",
    "        super().__init__()\n",
    "        self.conv1 = Conv2d(3, 6, 5)\n",
    "        self.pool = MaxPool2d(2, 2)\n",
    "        self.conv2 = Conv2d(6, 16, 5)\n",
    "        self.fc1 = Linear(16 * 5 * 5, 120)\n",
    "        self.fc2 = Linear(120, 84)\n",
    "        # self.qnn = TorchConnector(qnn)  # Apply torch connector, weights chosen\n",
    "        # uniformly at random from interval [-1,1].\n",
    "        self.fc3 = Linear(84,3)  # 1-dimensional output from QNN\n",
    "        self.qnn = TorchConnector(qnn)  # Apply torch connector, weights chosen\n",
    "        self.fc4 = Linear(4,4)\n",
    "\n",
    "\n",
    "    def forward(self, x):\n",
    "        x = self.pool(F.relu(self.conv1(x)))\n",
    "        x = self.pool(F.relu(self.conv2(x)))\n",
    "        x = torch.flatten(x, 1) # flatten all dimensions except batch\n",
    "        x = F.relu(self.fc1(x))\n",
    "        x = F.relu(self.fc2(x))\n",
    "        x = self.fc3(x)\n",
    "        x = self.qnn(x)  # apply QNN\n",
    "        x = self.fc4(x)\n",
    "        return x\n",
    "\n",
    "classifier_model = Net(qnn4)"
   ]
  },
  {
   "cell_type": "code",
   "execution_count": 141,
   "metadata": {},
   "outputs": [],
   "source": [
    "def gen_grid(height, k):\n",
    "    \"\"\"Generate an identity grid with shape 1*height*height*2 and a noise grid with shape 1*height*height*2\n",
    "    according to the input height ``height`` and the uniform grid size ``k``.\n",
    "    \"\"\"\n",
    "    ins = torch.rand(1, 2, k, k) * 2 - 1\n",
    "    ins = ins / torch.mean(torch.abs(ins))  # a uniform grid\n",
    "    noise_grid = nn.functional.upsample(ins, size=height, mode=\"bicubic\", align_corners=True)\n",
    "    noise_grid = noise_grid.permute(0, 2, 3, 1)  # 1*height*height*2\n",
    "    array1d = torch.linspace(-1, 1, steps=height)  # 1D coordinate divided by height in [-1, 1]\n",
    "    x, y = torch.meshgrid(array1d, array1d)  # 2D coordinates height*height\n",
    "    identity_grid = torch.stack((y, x), 2)[None, ...]  # 1*height*height*2\n",
    "\n",
    "    return identity_grid, noise_grid"
   ]
  },
  {
   "cell_type": "code",
   "execution_count": 142,
   "metadata": {},
   "outputs": [],
   "source": [
    "identity_grid,noise_grid=gen_grid(32,4)"
   ]
  },
  {
   "cell_type": "code",
   "execution_count": 143,
   "metadata": {},
   "outputs": [
    {
     "name": "stdout",
     "output_type": "stream",
     "text": [
      "Files already downloaded and verified\n",
      "Files already downloaded and verified\n"
     ]
    }
   ],
   "source": [
    "torch.save(identity_grid, 'ResNet-18_CIFAR-10_WaNet_identity_grid.pth')\n",
    "torch.save(noise_grid, 'ResNet-18_CIFAR-10_WaNet_noise_grid.pth')\n",
    "wanet = core.WaNet(\n",
    "    train_dataset=trainset,\n",
    "    test_dataset=testset,\n",
    "    model=core.models.ResNet(18),\n",
    "    # model=core.models.BaselineMNISTNetwork(),\n",
    "    loss=nn.CrossEntropyLoss(),\n",
    "    y_target=0,\n",
    "    poisoned_rate=0.1,\n",
    "    identity_grid=identity_grid,\n",
    "    noise_grid=noise_grid,\n",
    "    noise=False\n",
    ")"
   ]
  },
  {
   "cell_type": "code",
   "execution_count": 144,
   "metadata": {},
   "outputs": [],
   "source": [
    "poisoned_train_dataset, poisoned_test_dataset = wanet.get_poisoned_dataset()"
   ]
  },
  {
   "cell_type": "code",
   "execution_count": 145,
   "metadata": {},
   "outputs": [],
   "source": [
    "poisoned_x_train = []\n",
    "poisoned_y_train = []\n",
    "poisoned_x_test = []\n",
    "poisoned_y_test = []\n",
    "for i in range(4000):\n",
    "    x,y = poisoned_train_dataset[i]\n",
    "    if y < 4 :\n",
    "        poisoned_x_train.append(np.array(x))\n",
    "        poisoned_y_train.append(np.array(y))\n",
    "for i in range(400):\n",
    "    x,y = poisoned_test_dataset[i]\n",
    "    if y < 4 :\n",
    "        poisoned_x_test.append(np.array(x))\n",
    "        poisoned_y_test.append(np.array(y))\n",
    "\n",
    "poisoned_x_train = np.array(poisoned_x_train)\n",
    "poisoned_y_train = np.array(poisoned_y_train)\n",
    "poisoned_x_test = np.array(poisoned_x_test)\n",
    "poisoned_y_test = np.array(poisoned_y_test)"
   ]
  },
  {
   "cell_type": "code",
   "execution_count": 146,
   "metadata": {},
   "outputs": [
    {
     "name": "stdout",
     "output_type": "stream",
     "text": [
      "0\n"
     ]
    },
    {
     "data": {
      "image/png": "[encoded data removed]",
      "text/plain": [
       "<Figure size 432x288 with 1 Axes>"
      ]
     },
     "metadata": {
      "needs_background": "light"
     },
     "output_type": "display_data"
    }
   ],
   "source": [
    "# Show an Example of Poison Training Samples\n",
    "index = 300\n",
    "x = np.expand_dims(poisoned_x_test[index],axis=0)\n",
    "# print(x[0])\n",
    "img_plot = np.transpose(x[0],(1,2,0))\n",
    "fig = plt.imshow(img_plot)\n",
    "print(poisoned_y_test[index])"
   ]
  },
  {
   "cell_type": "code",
   "execution_count": 147,
   "metadata": {},
   "outputs": [],
   "source": [
    "idx = []\n",
    "poisoned_y_train = np.array(poisoned_y_train).astype('int64')\n",
    "for targets in range(4):\n",
    "    classes = np.where(poisoned_y_train == targets)[0]\n",
    "    # print(classes)\n",
    "    idx = np.append(idx,random.choices(classes,k = 1000))\n",
    "idx = idx.astype(int)\n",
    "# print(idx)\n",
    "poisoned_x_train = poisoned_x_train[idx]\n",
    "y_test = np.zeros((poisoned_y_train[idx].size, poisoned_y_train[idx].max() + 1))\n",
    "y_test[np.arange(poisoned_y_train[idx].size), poisoned_y_train[idx]] = 1\n",
    "poisoned_y_train = y_test"
   ]
  },
  {
   "cell_type": "code",
   "execution_count": 148,
   "metadata": {},
   "outputs": [],
   "source": [
    "idx = []\n",
    "poisoned_y_test = np.array(poisoned_y_test).astype('int64')\n",
    "for targets in range(4):\n",
    "    classes = np.where(poisoned_y_test == targets)[0]\n",
    "    # print(classes)\n",
    "    idx = np.append(idx,random.choices(classes,k = 100))\n",
    "idx = idx.astype(int)\n",
    "# print(idx)\n",
    "poisoned_x_test = poisoned_x_test[idx]\n",
    "y_test = np.zeros((poisoned_y_test[idx].size, poisoned_y_test[idx].max() + 1))\n",
    "y_test[np.arange(poisoned_y_test[idx].size), poisoned_y_test[idx]] = 1\n",
    "poisoned_y_test = y_test"
   ]
  },
  {
   "cell_type": "code",
   "execution_count": 149,
   "metadata": {},
   "outputs": [
    {
     "name": "stdout",
     "output_type": "stream",
     "text": [
      "shape of x_train (4000, 3, 32, 32)\n",
      "shape of y_train (4000, 4)\n"
     ]
    }
   ],
   "source": [
    "print(\"shape of x_train\",poisoned_x_train.shape)\n",
    "print(\"shape of y_train\",poisoned_y_train.shape)"
   ]
  },
  {
   "cell_type": "code",
   "execution_count": 150,
   "metadata": {},
   "outputs": [
    {
     "data": {
      "text/plain": [
       "<All keys matched successfully>"
      ]
     },
     "execution_count": 150,
     "metadata": {},
     "output_type": "execute_result"
    }
   ],
   "source": [
    "classifier_model.load_state_dict(torch.load(\"./models/cifar10_qiskitmdl.pt\"))"
   ]
  },
  {
   "cell_type": "code",
   "execution_count": 151,
   "metadata": {},
   "outputs": [],
   "source": [
    "# Pretrained model\n",
    "classifier_model.eval() # for evaluation\n",
    "criterion =  nn.CrossEntropyLoss()\n",
    "optimizer = optim.Adam(classifier_model.parameters(), lr=0.0001)\n",
    "classifier = PyTorchClassifier(model=classifier_model, \n",
    "                             nb_classes=4,input_shape=(3,32,32),loss=criterion,\n",
    "                             optimizer=optimizer)"
   ]
  },
  {
   "cell_type": "code",
   "execution_count": 152,
   "metadata": {},
   "outputs": [
    {
     "name": "stderr",
     "output_type": "stream",
     "text": [
      "Epochs: 100%|██████████| 5/5 [28:38<00:00, 343.75s/it]\n"
     ]
    }
   ],
   "source": [
    "classifier_model.train()\n",
    "classifier.fit(poisoned_x_train, poisoned_y_train, nb_epochs=5, batch_size=4,verbose = True)"
   ]
  },
  {
   "cell_type": "code",
   "execution_count": null,
   "metadata": {},
   "outputs": [],
   "source": []
  }
 ],
 "metadata": {
  "kernelspec": {
   "display_name": "Python 3",
   "language": "python",
   "name": "python3"
  },
  "language_info": {
   "codemirror_mode": {
    "name": "ipython",
    "version": 3
   },
   "file_extension": ".py",
   "mimetype": "text/x-python",
   "name": "python",
   "nbconvert_exporter": "python",
   "pygments_lexer": "ipython3",
   "version": "3.10.6"
  }
 },
 "nbformat": 4,
 "nbformat_minor": 2
}
